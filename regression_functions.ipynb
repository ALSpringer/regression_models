{
 "cells": [
  {
   "cell_type": "code",
   "execution_count": 1,
   "metadata": {},
   "outputs": [],
   "source": [
    "import pandas as pd\n",
    "import numpy as np\n",
    "import yaml\n",
    "import matplotlib.pyplot as plt\n",
    "import seaborn as sns\n",
    "import statsmodels.api as sm\n",
    "import random\n",
    "from scipy import stats\n",
    "pd.set_option('display.max_columns', 500)\n",
    "plt.rcParams[\"figure.figsize\"] =(10,6)\n",
    "#plt.rcParams[\"axes.labelsize\"] = 15\n",
    "sns.set_style('white')\n",
    "sns.despine()\n",
    "sns.set(style=\"ticks\") \n",
    "sns.set_context('talk')"
   ]
  },
  {
   "cell_type": "code",
   "execution_count": 441,
   "metadata": {},
   "outputs": [
    {
     "name": "stdout",
     "output_type": "stream",
     "text": [
      "Population Correlation coefficient: 0.5773502691896258\n",
      "Sample Correlation coefficient: 0.6070462059656389\n",
      "Population R2: 0.3333333333333334\n",
      "Sample R2: 0.36850509617727684\n"
     ]
    },
    {
     "data": {
      "image/png": "[encoded data removed]",
      "text/plain": [
       "<Figure size 432x288 with 1 Axes>"
      ]
     },
     "metadata": {
      "needs_background": "light"
     },
     "output_type": "display_data"
    },
    {
     "name": "stdout",
     "output_type": "stream",
     "text": [
      "[[1.         0.60704621]\n",
      " [0.60704621 1.        ]]\n"
     ]
    }
   ],
   "source": [
    "# FROM https://stackoverflow.com/questions/16024677/generate-correlated-data-in-python-3-3\n",
    "num_samples = 500\n",
    "\n",
    "# The desired mean values of the sample.\n",
    "mu = np.array([5.0, 0.0, 4, -4])\n",
    "mu = np.array([5.0, 0.0])\n",
    "\n",
    "\n",
    "# The desired covariance matrix.\n",
    "r = np.array([\n",
    "        [ 3,  2, 1, 2],\n",
    "        [ 2,  4, 2, 1],\n",
    "        [ 1,  2, 2, 2],\n",
    "        [ 2,  1, 2, 1],\n",
    "    ])\n",
    "\n",
    "r = np.array([\n",
    "        [ 3,  2],\n",
    "        [ 2,  4],\n",
    "    ])\n",
    "#variance_1, covariance\n",
    "#covariance, variance_2\n",
    "#always symmetric across diagonal\n",
    "\n",
    "#TODO nonsensical answers when cov is larger than variance\n",
    "\n",
    "# covariance cannot be larger than the variance\n",
    "# \n",
    "\n",
    "## cannot interpret covariance easily because it is not normalized\n",
    "## normalized version is correlation coefficient\n",
    "\n",
    "# Generate the random samples.\n",
    "y = np.random.multivariate_normal(mu, r, size=num_samples)\n",
    "\n",
    "cor_coef = r[0][1]/(np.sqrt(r[0][0])*np.sqrt(r[1][1]))\n",
    "print('Population Correlation coefficient: %s' % cor_coef)\n",
    "print('Sample Correlation coefficient: %s' % np.corrcoef(y, rowvar=False)[0][1])\n",
    "r2 = np.power(r[0][1]/(np.sqrt(r[0][0])*np.sqrt(r[1][1])),2)\n",
    "print('Population R2: %s' % r2)\n",
    "print('Sample R2: %s' % np.power(np.corrcoef(y, rowvar=False)[0][1],2))\n",
    "# Plot various projections of the samples.\n",
    "#plt.subplot(2,2,1)\n",
    "plt.title('Means(5,0), Variance(10,10), Covariance(%s)' % i)\n",
    "plt.xlim((-5,15))\n",
    "plt.ylim((-10,10))\n",
    "plt.plot(y[:,0], y[:,1], 'b.')\n",
    "#plt.plot(mu[0], mu[1], 'ro')\n",
    "plt.ylabel('y[1]')\n",
    "#plt.axis('equal')\n",
    "#plt.grid(True)\n",
    "plt.show()\n",
    "print(np.corrcoef(y, rowvar=False))\n",
    "    \n",
    "x = (y[:, 1:])\n",
    "y = (y[:, 0])"
   ]
  },
  {
   "cell_type": "code",
   "execution_count": 442,
   "metadata": {},
   "outputs": [],
   "source": [
    "#soap\tsuds\n",
    "#x = np.array([4.0, 4.5, 5.0, 5.5, 6.0, 6.5, 7.0])\n",
    "#y = np.array([33, 42, 45, 51, 53, 61, 62])"
   ]
  },
  {
   "cell_type": "code",
   "execution_count": 443,
   "metadata": {},
   "outputs": [],
   "source": [
    "# theres a much simpler function here with one of the np randoms im sure\n",
    "\n",
    "def bootstrap_sample(x,y,n):\n",
    "    samples_x = [[]]*n\n",
    "    samples_y = [[]]*n\n",
    "    for i in range(n):\n",
    "        if x.shape != ():\n",
    "            samples_x[i] = np.ndarray(x.shape)\n",
    "        else:\n",
    "            samples_x[i] = np.ndarray([])\n",
    "        samples_y[i] = np.ndarray(y.shape)\n",
    "        for _ in range(y.shape[0]):\n",
    "            # lol i was combining random X and random Y before\n",
    "            chosen_obs = random.randrange(y.shape[0])\n",
    "            if x.shape != ():\n",
    "                samples_x[i][_] = x[chosen_obs]\n",
    "            samples_y[i][_] = y[chosen_obs]\n",
    "    return (samples_x, samples_y)"
   ]
  },
  {
   "cell_type": "code",
   "execution_count": 446,
   "metadata": {},
   "outputs": [
    {
     "name": "stdout",
     "output_type": "stream",
     "text": [
      "Intercept: 4.899815660269471,   ci: [4.76661426 5.03103189]\n",
      "b_1 coefficient: 0.5518355986982935,   ci: [0.48825363 0.61709902]\n",
      "f-statistic: 290.60493882908935\n",
      "p-value for f-statistic: None\n",
      "Intercept: 4.931489158461502,   ci: [4.78053247 5.08018002]\n",
      "f-statistic: nan\n",
      "p-value for f-statistic: None\n"
     ]
    },
    {
     "name": "stderr",
     "output_type": "stream",
     "text": [
      "/Users/aaronspringer/miniconda3/lib/python3.5/site-packages/ipykernel_launcher.py:84: RuntimeWarning: invalid value encountered in double_scalars\n"
     ]
    }
   ],
   "source": [
    "class simple_regression:\n",
    "    x = []\n",
    "    y = []\n",
    "    coefs = []\n",
    "    debug = False\n",
    "    \n",
    "    def __init__(self, x, y, debug=False):\n",
    "        self.debug = debug\n",
    "        self.x = x\n",
    "        self.y = y\n",
    "        self.fit()\n",
    "    \n",
    "    def debug_print(self, s):\n",
    "        if self.debug:\n",
    "            print(s)\n",
    "        else:\n",
    "            pass\n",
    "        \n",
    "    def create_design_matrix(self):\n",
    "        self.debug_print(np.shape(self.x))\n",
    "        self.debug_print(self.x)\n",
    "        self.debug_print(np.ones_like(self.y))\n",
    "        ones = np.ones_like(self.y)\n",
    "        ones = ones.reshape(self.y.shape[0],1)\n",
    "        self.debug_print(self.x.shape)\n",
    "        self.debug_print(type(ones))\n",
    "        self.debug_print(type(self.x))\n",
    "        # account for reduced model case here where only fitting an intercept\n",
    "        if len(self.x.shape) > 0:\n",
    "            x = np.vstack([ones.T,self.x.T]).T\n",
    "        else:\n",
    "            x = ones\n",
    "        self.debug_print(x)\n",
    "        self.debug_print('X with padded 1s')\n",
    "        self.debug_print(x)\n",
    "        self.debug_print(x.shape)\n",
    "        return x\n",
    "    \n",
    "    def fit(self):\n",
    "        # we need to add a column of 1s to our X\n",
    "        #debug_print((np.ones(np.shape(x)[0])))\n",
    "        x = self.create_design_matrix()\n",
    "        self.debug_print('X transpose')\n",
    "        self.debug_print(x.T)\n",
    "        x_t_x_product = np.matmul(x.T,x)\n",
    "        self.debug_print('X_t*X')\n",
    "        self.debug_print(x_t_x_product)\n",
    "        x_t_x_inverse = np.linalg.inv(x_t_x_product)\n",
    "        self.debug_print('X_t*X Inverted')\n",
    "        self.debug_print(x_t_x_inverse)\n",
    "        self.debug_print('x_t %s' % x.T)\n",
    "        self.debug_print('y %s' % self.y)\n",
    "        x_t_times_y = np.matmul(x.T, self.y)\n",
    "        self.debug_print('X_t * y')\n",
    "        self.debug_print(x_t_times_y)\n",
    "        final_with_y = np.matmul(x_t_x_inverse, x_t_times_y.T)\n",
    "        self.debug_print('Final:')\n",
    "        self.debug_print(final_with_y)\n",
    "        self.coefs = final_with_y\n",
    "        return final_with_y\n",
    "    \n",
    "    def get_coefs(self):\n",
    "        return self.coefs\n",
    "    \n",
    "    def residuals(self):\n",
    "        if len(self.coefs) == 0:\n",
    "            raise ValueError('Model is not fitted')\n",
    "        x = self.create_design_matrix()\n",
    "        predictions = np.matmul(x, self.coefs)\n",
    "        return self.y - predictions\n",
    "    \n",
    "    def sse(self):\n",
    "        return np.sum(np.power(self.residuals(),2))\n",
    "    \n",
    "    def f_test(self):\n",
    "        reduced_model = simple_regression(np.ndarray([]), self.y, debug=False)\n",
    "        sse_reduced = reduced_model.sse()\n",
    "        df_reduced = self.y.shape[0]-1\n",
    "        sse_full = self.sse()\n",
    "        if len(self.x.shape) > 0:\n",
    "            df_full = self.y.shape[0]-self.x.shape[1]-1 # minus 1 is for intercept\n",
    "        else:\n",
    "            df_full = self.y.shape[0]-1\n",
    "        return ((sse_reduced-sse_full)/(df_reduced-df_full))/(sse_full/df_full)\n",
    "    \n",
    "    def get_coef_cis(self, n):\n",
    "        bootstrapped_samples_x, bootstrapped_samples_y = bootstrap_sample(self.x,self.y,n)\n",
    "        num_betas = self.x.shape[1] if self.x.shape != () else 0\n",
    "        coef_est = np.ndarray((n,num_betas+1))\n",
    "        for i,val in enumerate(bootstrapped_samples_x):\n",
    "            r = simple_regression(bootstrapped_samples_x[i], bootstrapped_samples_y[i])\n",
    "            coef_est[i] = r.get_coefs()\n",
    "        return np.apply_along_axis(np.quantile, axis=0, arr=coef_est, q=[.025, .975])\n",
    "    \n",
    "    def p_value(self):\n",
    "        f = self.f_test()\n",
    "        # why do we need an absolute value on the f stat?\n",
    "        # lol we don't if we calculate it correctly (reduced - full)\n",
    "        #print(stats.f.sf((f),self.y.shape[0]-1,self.y.shape[0]-self.x.shape[1]-1))\n",
    "\n",
    "    def print_summary(self):\n",
    "        cis = self.get_coef_cis(500).T\n",
    "        for i, val in enumerate(self.coefs):\n",
    "            if i == 0:\n",
    "                print('Intercept: %s,   ci: %s' % (list(self.coefs)[i], cis[i]))\n",
    "            else:\n",
    "                print('b_%s coefficient: %s,   ci: %s' % (i, val, cis[i]))\n",
    "        print('f-statistic: %s' % (self.f_test()))\n",
    "        print('p-value for f-statistic: %s' % (self.p_value()))\n",
    "        \n",
    "test_multiple = simple_regression(x,y, debug=False)\n",
    "test_multiple.print_summary()\n",
    "#print(test_multiple.get_coef_cis(200).T[0])\n",
    "#print(test_multiple.f_test())\n",
    "#print(test_multiple.p_value())\n",
    "plt.show()\n",
    "\n",
    "test_reduced = simple_regression(np.ndarray([]), y, debug=False)\n",
    "test_reduced.fit()\n",
    "test_reduced.print_summary()\n",
    "#print(test_reduced.f_test())\n",
    "#print(test_reduced.sse())\n"
   ]
  },
  {
   "cell_type": "code",
   "execution_count": 435,
   "metadata": {},
   "outputs": [
    {
     "data": {
      "text/plain": [
       "()"
      ]
     },
     "execution_count": 435,
     "metadata": {},
     "output_type": "execute_result"
    }
   ],
   "source": [
    "np.ndarray([]).shape"
   ]
  },
  {
   "cell_type": "code",
   "execution_count": 447,
   "metadata": {},
   "outputs": [
    {
     "data": {
      "text/html": [
       "<table class=\"simpletable\">\n",
       "<caption>OLS Regression Results</caption>\n",
       "<tr>\n",
       "  <th>Dep. Variable:</th>            <td>y</td>        <th>  R-squared:         </th> <td>   0.369</td>\n",
       "</tr>\n",
       "<tr>\n",
       "  <th>Model:</th>                   <td>OLS</td>       <th>  Adj. R-squared:    </th> <td>   0.367</td>\n",
       "</tr>\n",
       "<tr>\n",
       "  <th>Method:</th>             <td>Least Squares</td>  <th>  F-statistic:       </th> <td>   290.6</td>\n",
       "</tr>\n",
       "<tr>\n",
       "  <th>Date:</th>             <td>Mon, 31 May 2021</td> <th>  Prob (F-statistic):</th> <td>1.15e-51</td>\n",
       "</tr>\n",
       "<tr>\n",
       "  <th>Time:</th>                 <td>12:04:06</td>     <th>  Log-Likelihood:    </th> <td> -903.55</td>\n",
       "</tr>\n",
       "<tr>\n",
       "  <th>No. Observations:</th>      <td>   500</td>      <th>  AIC:               </th> <td>   1811.</td>\n",
       "</tr>\n",
       "<tr>\n",
       "  <th>Df Residuals:</th>          <td>   498</td>      <th>  BIC:               </th> <td>   1820.</td>\n",
       "</tr>\n",
       "<tr>\n",
       "  <th>Df Model:</th>              <td>     1</td>      <th>                     </th>     <td> </td>   \n",
       "</tr>\n",
       "<tr>\n",
       "  <th>Covariance Type:</th>      <td>nonrobust</td>    <th>                     </th>     <td> </td>   \n",
       "</tr>\n",
       "</table>\n",
       "<table class=\"simpletable\">\n",
       "<tr>\n",
       "    <td></td>       <th>coef</th>     <th>std err</th>      <th>t</th>      <th>P>|t|</th>  <th>[0.025</th>    <th>0.975]</th>  \n",
       "</tr>\n",
       "<tr>\n",
       "  <th>const</th> <td>    4.8998</td> <td>    0.066</td> <td>   74.139</td> <td> 0.000</td> <td>    4.770</td> <td>    5.030</td>\n",
       "</tr>\n",
       "<tr>\n",
       "  <th>x1</th>    <td>    0.5518</td> <td>    0.032</td> <td>   17.047</td> <td> 0.000</td> <td>    0.488</td> <td>    0.615</td>\n",
       "</tr>\n",
       "</table>\n",
       "<table class=\"simpletable\">\n",
       "<tr>\n",
       "  <th>Omnibus:</th>       <td> 1.279</td> <th>  Durbin-Watson:     </th> <td>   2.079</td>\n",
       "</tr>\n",
       "<tr>\n",
       "  <th>Prob(Omnibus):</th> <td> 0.527</td> <th>  Jarque-Bera (JB):  </th> <td>   1.359</td>\n",
       "</tr>\n",
       "<tr>\n",
       "  <th>Skew:</th>          <td> 0.116</td> <th>  Prob(JB):          </th> <td>   0.507</td>\n",
       "</tr>\n",
       "<tr>\n",
       "  <th>Kurtosis:</th>      <td> 2.892</td> <th>  Cond. No.          </th> <td>    2.04</td>\n",
       "</tr>\n",
       "</table><br/><br/>Warnings:<br/>[1] Standard Errors assume that the covariance matrix of the errors is correctly specified."
      ],
      "text/plain": [
       "<class 'statsmodels.iolib.summary.Summary'>\n",
       "\"\"\"\n",
       "                            OLS Regression Results                            \n",
       "==============================================================================\n",
       "Dep. Variable:                      y   R-squared:                       0.369\n",
       "Model:                            OLS   Adj. R-squared:                  0.367\n",
       "Method:                 Least Squares   F-statistic:                     290.6\n",
       "Date:                Mon, 31 May 2021   Prob (F-statistic):           1.15e-51\n",
       "Time:                        12:04:06   Log-Likelihood:                -903.55\n",
       "No. Observations:                 500   AIC:                             1811.\n",
       "Df Residuals:                     498   BIC:                             1820.\n",
       "Df Model:                           1                                         \n",
       "Covariance Type:            nonrobust                                         \n",
       "==============================================================================\n",
       "                 coef    std err          t      P>|t|      [0.025      0.975]\n",
       "------------------------------------------------------------------------------\n",
       "const          4.8998      0.066     74.139      0.000       4.770       5.030\n",
       "x1             0.5518      0.032     17.047      0.000       0.488       0.615\n",
       "==============================================================================\n",
       "Omnibus:                        1.279   Durbin-Watson:                   2.079\n",
       "Prob(Omnibus):                  0.527   Jarque-Bera (JB):                1.359\n",
       "Skew:                           0.116   Prob(JB):                        0.507\n",
       "Kurtosis:                       2.892   Cond. No.                         2.04\n",
       "==============================================================================\n",
       "\n",
       "Warnings:\n",
       "[1] Standard Errors assume that the covariance matrix of the errors is correctly specified.\n",
       "\"\"\""
      ]
     },
     "execution_count": 447,
     "metadata": {},
     "output_type": "execute_result"
    }
   ],
   "source": [
    "x_1 = (sm.add_constant(x))\n",
    "#print(np.transpose(sm.add_constant(x)))\n",
    "#print(y)\n",
    "sm.OLS(y, sm.add_constant(x)).fit().summary()"
   ]
  },
  {
   "cell_type": "code",
   "execution_count": 189,
   "metadata": {},
   "outputs": [],
   "source": []
  },
  {
   "cell_type": "code",
   "execution_count": 190,
   "metadata": {},
   "outputs": [
    {
     "ename": "TypeError",
     "evalue": "list indices must be integers or slices, not tuple",
     "output_type": "error",
     "traceback": [
      "\u001b[0;31m---------------------------------------------------------------------------\u001b[0m",
      "\u001b[0;31mTypeError\u001b[0m                                 Traceback (most recent call last)",
      "\u001b[0;32m<ipython-input-190-8e21e1003991>\u001b[0m in \u001b[0;36m<module>\u001b[0;34m()\u001b[0m\n\u001b[1;32m      7\u001b[0m \u001b[0mcoef_est\u001b[0m \u001b[0;34m=\u001b[0m \u001b[0;34m[\u001b[0m\u001b[0;34m]\u001b[0m\u001b[0;34m\u001b[0m\u001b[0m\n\u001b[1;32m      8\u001b[0m \u001b[0;32mfor\u001b[0m \u001b[0mi\u001b[0m\u001b[0;34m,\u001b[0m\u001b[0mval\u001b[0m \u001b[0;32min\u001b[0m \u001b[0menumerate\u001b[0m\u001b[0;34m(\u001b[0m\u001b[0mbootstrapped_samples_x\u001b[0m\u001b[0;34m)\u001b[0m\u001b[0;34m:\u001b[0m\u001b[0;34m\u001b[0m\u001b[0m\n\u001b[0;32m----> 9\u001b[0;31m     \u001b[0mintercept_est\u001b[0m\u001b[0;34m.\u001b[0m\u001b[0mappend\u001b[0m\u001b[0;34m(\u001b[0m\u001b[0msimple_regression\u001b[0m\u001b[0;34m(\u001b[0m\u001b[0mbootstrapped_samples_x\u001b[0m\u001b[0;34m[\u001b[0m\u001b[0mi\u001b[0m\u001b[0;34m]\u001b[0m\u001b[0;34m,\u001b[0m \u001b[0mbootstrapped_samples_y\u001b[0m\u001b[0;34m[\u001b[0m\u001b[0mi\u001b[0m\u001b[0;34m]\u001b[0m\u001b[0;34m)\u001b[0m\u001b[0;34m[\u001b[0m\u001b[0;36m0\u001b[0m\u001b[0;34m]\u001b[0m\u001b[0;34m.\u001b[0m\u001b[0mitem\u001b[0m\u001b[0;34m(\u001b[0m\u001b[0;34m)\u001b[0m\u001b[0;34m)\u001b[0m\u001b[0;34m\u001b[0m\u001b[0m\n\u001b[0m\u001b[1;32m     10\u001b[0m     \u001b[0;31m#print(val)\u001b[0m\u001b[0;34m\u001b[0m\u001b[0;34m\u001b[0m\u001b[0m\n\u001b[1;32m     11\u001b[0m     \u001b[0;31m#print(intercept_est[-1])\u001b[0m\u001b[0;34m\u001b[0m\u001b[0;34m\u001b[0m\u001b[0m\n",
      "\u001b[0;32m<ipython-input-187-e2b521c64a59>\u001b[0m in \u001b[0;36msimple_regression\u001b[0;34m(x, y, debug)\u001b[0m\n\u001b[1;32m      8\u001b[0m     \u001b[0;31m#debug_print((np.ones(np.shape(x)[0])))\u001b[0m\u001b[0;34m\u001b[0m\u001b[0;34m\u001b[0m\u001b[0m\n\u001b[1;32m      9\u001b[0m     \u001b[0mdebug_print\u001b[0m\u001b[0;34m(\u001b[0m\u001b[0mnp\u001b[0m\u001b[0;34m.\u001b[0m\u001b[0mshape\u001b[0m\u001b[0;34m(\u001b[0m\u001b[0mx\u001b[0m\u001b[0;34m)\u001b[0m\u001b[0;34m)\u001b[0m\u001b[0;34m\u001b[0m\u001b[0m\n\u001b[0;32m---> 10\u001b[0;31m     \u001b[0mdebug_print\u001b[0m\u001b[0;34m(\u001b[0m\u001b[0mx\u001b[0m\u001b[0;34m[\u001b[0m\u001b[0;34m:\u001b[0m\u001b[0;34m,\u001b[0m\u001b[0;36m0\u001b[0m\u001b[0;34m]\u001b[0m\u001b[0;34m)\u001b[0m\u001b[0;34m\u001b[0m\u001b[0m\n\u001b[0m\u001b[1;32m     11\u001b[0m     \u001b[0mdebug_print\u001b[0m\u001b[0;34m(\u001b[0m\u001b[0mnp\u001b[0m\u001b[0;34m.\u001b[0m\u001b[0mones_like\u001b[0m\u001b[0;34m(\u001b[0m\u001b[0mx\u001b[0m\u001b[0;34m)\u001b[0m\u001b[0;34m[\u001b[0m\u001b[0;34m:\u001b[0m\u001b[0;34m,\u001b[0m\u001b[0;36m0\u001b[0m\u001b[0;34m]\u001b[0m\u001b[0;34m)\u001b[0m\u001b[0;34m\u001b[0m\u001b[0m\n\u001b[1;32m     12\u001b[0m     \u001b[0mones\u001b[0m \u001b[0;34m=\u001b[0m \u001b[0mnp\u001b[0m\u001b[0;34m.\u001b[0m\u001b[0mones_like\u001b[0m\u001b[0;34m(\u001b[0m\u001b[0mx\u001b[0m\u001b[0;34m)\u001b[0m\u001b[0;34m[\u001b[0m\u001b[0;34m:\u001b[0m\u001b[0;34m,\u001b[0m\u001b[0;36m0\u001b[0m\u001b[0;34m]\u001b[0m\u001b[0;34m\u001b[0m\u001b[0m\n",
      "\u001b[0;31mTypeError\u001b[0m: list indices must be integers or slices, not tuple"
     ]
    }
   ],
   "source": [
    "#bootstrap doesn't perform super well with suds data\n",
    "# ^^ remains to be seen\n",
    "# it didn't perform super well because my bootstrap just chose random shit to fit\n",
    "bootstrapped_samples_x, bootstrapped_samples_y = bootstrap_sample(x,y,5000)\n",
    "#print(bootstrapped_samples_x)\n",
    "intercept_est = []\n",
    "coef_est = []\n",
    "for i,val in enumerate(bootstrapped_samples_x):\n",
    "    intercept_est.append(simple_regression(bootstrapped_samples_x[i], bootstrapped_samples_y[i])[0].item())\n",
    "    #print(val)\n",
    "    #print(intercept_est[-1])\n",
    "    #print(sm.OLS(bootstrapped_samples_y[i], sm.add_constant(bootstrapped_samples_x[i])).fit().summary())\n",
    "    coef_est.append(simple_regression(val, bootstrapped_samples_y[i])[1].item())\n",
    "\n",
    "# we can't really treat this as the confidence interval because it is dependent on the number of bootstrap samples\n",
    "# instead we should just take the 95% quantiles\n",
    "#print('Intercept 95 confidence interval: (%s, %s)' % (np.mean(intercept_est)-1.96*intercept_se,np.mean(intercept_est)+1.96*intercept_se))\n",
    "#print('Coef 95 confidence interval: (%s, %s)' % (np.mean(coef_est)-1.96*coef_se,np.mean(coef_est)+1.96*coef_se))\n",
    "print('Intercept 95 confidence interval: %s' % np.quantile(intercept_est, [.025, .975]))\n",
    "print('Coef 95 confidence interval: %s' % np.quantile(coef_est, [.025,.975]))\n",
    "\n",
    "pd.Series(intercept_est).plot.hist()\n",
    "plt.show()\n",
    "#sm.qqplot(pd.Series(intercept_est), line='45')\n",
    "pd.Series(coef_est).plot.hist()\n",
    "plt.show()\n",
    "#sm.qqplot(pd.Series(coef_est), line='45')"
   ]
  },
  {
   "cell_type": "code",
   "execution_count": 464,
   "metadata": {},
   "outputs": [
    {
     "data": {
      "text/plain": [
       "'1.14.5'"
      ]
     },
     "execution_count": 464,
     "metadata": {},
     "output_type": "execute_result"
    }
   ],
   "source": [
    "np.version.version"
   ]
  },
  {
   "cell_type": "code",
   "execution_count": null,
   "metadata": {},
   "outputs": [],
   "source": []
  }
 ],
 "metadata": {
  "kernelspec": {
   "display_name": "Python 3",
   "language": "python",
   "name": "python3"
  },
  "language_info": {
   "codemirror_mode": {
    "name": "ipython",
    "version": 3
   },
   "file_extension": ".py",
   "mimetype": "text/x-python",
   "name": "python",
   "nbconvert_exporter": "python",
   "pygments_lexer": "ipython3",
   "version": "3.5.5"
  }
 },
 "nbformat": 4,
 "nbformat_minor": 2
}
