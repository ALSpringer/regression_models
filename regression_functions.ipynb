{
 "cells": [
  {
   "cell_type": "code",
   "execution_count": 1,
   "metadata": {},
   "outputs": [],
   "source": [
    "import pandas as pd\n",
    "import numpy as np\n",
    "import yaml\n",
    "import matplotlib.pyplot as plt\n",
    "import seaborn as sns\n",
    "import statsmodels.api as sm\n",
    "import random\n",
    "from scipy import stats\n",
    "pd.set_option('display.max_columns', 500)\n",
    "plt.rcParams[\"figure.figsize\"] =(10,6)\n",
    "#plt.rcParams[\"axes.labelsize\"] = 15\n",
    "sns.set_style('white')\n",
    "sns.despine()\n",
    "sns.set(style=\"ticks\") \n",
    "sns.set_context('talk')"
   ]
  },
  {
   "cell_type": "code",
   "execution_count": 3,
   "metadata": {},
   "outputs": [
    {
     "name": "stdout",
     "output_type": "stream",
     "text": [
      "Population Correlation coefficient: 0.5773502691896258\n",
      "Sample Correlation coefficient: 0.5702817107913396\n",
      "Population R2: 0.3333333333333334\n",
      "Sample R2: 0.3252212296630971\n"
     ]
    },
    {
     "data": {
      "image/png": "[encoded data removed]",
      "text/plain": [
       "<Figure size 432x288 with 1 Axes>"
      ]
     },
     "metadata": {
      "needs_background": "light"
     },
     "output_type": "display_data"
    },
    {
     "name": "stdout",
     "output_type": "stream",
     "text": [
      "[[1.         0.57028171]\n",
      " [0.57028171 1.        ]]\n"
     ]
    }
   ],
   "source": [
    "# FROM https://stackoverflow.com/questions/16024677/generate-correlated-data-in-python-3-3\n",
    "num_samples = 500\n",
    "\n",
    "# The desired mean values of the sample.\n",
    "mu = np.array([5.0, 0.0, 4, -4])\n",
    "mu = np.array([5.0, 0.0])\n",
    "\n",
    "\n",
    "# The desired covariance matrix.\n",
    "r = np.array([\n",
    "        [ 3,  2, 1, 2],\n",
    "        [ 2,  4, 2, 1],\n",
    "        [ 1,  2, 2, 2],\n",
    "        [ 2,  1, 2, 1],\n",
    "    ])\n",
    "\n",
    "r = np.array([\n",
    "        [ 3,  2],\n",
    "        [ 2,  4],\n",
    "    ])\n",
    "#variance_1, covariance\n",
    "#covariance, variance_2\n",
    "#always symmetric across diagonal\n",
    "\n",
    "#TODO nonsensical answers when cov is larger than variance\n",
    "\n",
    "# covariance cannot be larger than the variance\n",
    "# \n",
    "\n",
    "## cannot interpret covariance easily because it is not normalized\n",
    "## normalized version is correlation coefficient\n",
    "\n",
    "# Generate the random samples.\n",
    "y = np.random.multivariate_normal(mu, r, size=num_samples)\n",
    "\n",
    "cor_coef = r[0][1]/(np.sqrt(r[0][0])*np.sqrt(r[1][1]))\n",
    "print('Population Correlation coefficient: %s' % cor_coef)\n",
    "print('Sample Correlation coefficient: %s' % np.corrcoef(y, rowvar=False)[0][1])\n",
    "r2 = np.power(r[0][1]/(np.sqrt(r[0][0])*np.sqrt(r[1][1])),2)\n",
    "print('Population R2: %s' % r2)\n",
    "print('Sample R2: %s' % np.power(np.corrcoef(y, rowvar=False)[0][1],2))\n",
    "# Plot various projections of the samples.\n",
    "#plt.subplot(2,2,1)\n",
    "#plt.title('Means(5,0), Variance(10,10), Covariance(%s)' % i)\n",
    "plt.xlim((-5,15))\n",
    "plt.ylim((-10,10))\n",
    "plt.plot(y[:,0], y[:,1], 'b.')\n",
    "#plt.plot(mu[0], mu[1], 'ro')\n",
    "plt.ylabel('y[1]')\n",
    "#plt.axis('equal')\n",
    "#plt.grid(True)\n",
    "plt.show()\n",
    "print(np.corrcoef(y, rowvar=False))\n",
    "    \n",
    "x = (y[:, 1:])\n",
    "y = (y[:, 0])"
   ]
  },
  {
   "cell_type": "code",
   "execution_count": null,
   "metadata": {},
   "outputs": [],
   "source": [
    "#very easy interpretable testing\n",
    "#soap to suds dataset\n",
    "#x = np.array([4.0, 4.5, 5.0, 5.5, 6.0, 6.5, 7.0])\n",
    "#y = np.array([33, 42, 45, 51, 53, 61, 62])"
   ]
  },
  {
   "cell_type": "code",
   "execution_count": 4,
   "metadata": {},
   "outputs": [],
   "source": [
    "# theres a much simpler function here with one of the np randoms im sure\n",
    "\n",
    "def bootstrap_sample(x,y,n):\n",
    "    samples_x = [[]]*n\n",
    "    samples_y = [[]]*n\n",
    "    for i in range(n):\n",
    "        if x.shape != ():\n",
    "            samples_x[i] = np.ndarray(x.shape)\n",
    "        else:\n",
    "            samples_x[i] = np.ndarray([])\n",
    "        samples_y[i] = np.ndarray(y.shape)\n",
    "        for _ in range(y.shape[0]):\n",
    "            # lol i was combining random X and random Y before\n",
    "            chosen_obs = random.randrange(y.shape[0])\n",
    "            if x.shape != ():\n",
    "                samples_x[i][_] = x[chosen_obs]\n",
    "            samples_y[i][_] = y[chosen_obs]\n",
    "    return (samples_x, samples_y)"
   ]
  },
  {
   "cell_type": "code",
   "execution_count": 5,
   "metadata": {},
   "outputs": [
    {
     "name": "stdout",
     "output_type": "stream",
     "text": [
      "Intercept: 4.991874828628935,   ci: [4.8742961  5.09863556]\n",
      "b_1 coefficient: 0.49342551729970247,   ci: [0.42528967 0.55909362]\n",
      "f-statistic: 240.01966198693367\n",
      "p-value for f-statistic: 0.0\n",
      "Intercept: 5.0012421090484676,   ci: [4.84569639 5.15093353]\n",
      "f-statistic: nan\n",
      "p-value for f-statistic: nan\n"
     ]
    },
    {
     "name": "stderr",
     "output_type": "stream",
     "text": [
      "/Users/aaronspringer/miniconda3/lib/python3.5/site-packages/ipykernel_launcher.py:63: RuntimeWarning: invalid value encountered in double_scalars\n"
     ]
    }
   ],
   "source": [
    "class simple_regression:\n",
    "    x = []\n",
    "    y = []\n",
    "    coefs = []\n",
    "    debug = False\n",
    "    \n",
    "    def __init__(self, x, y, debug=False):\n",
    "        self.debug = debug\n",
    "        self.x = x\n",
    "        self.y = y\n",
    "        self.fit()\n",
    "    \n",
    "    def debug_print(self, s):\n",
    "        if self.debug:\n",
    "            print(s)\n",
    "        else:\n",
    "            pass\n",
    "        \n",
    "    def create_design_matrix(self):\n",
    "        # add the intercept column of 1s\n",
    "        ones = np.ones_like(self.y)\n",
    "        ones = ones.reshape(self.y.shape[0],1)\n",
    "        # account for reduced model case here where only fitting an intercept\n",
    "        if len(self.x.shape) > 0:\n",
    "            x = np.vstack([ones.T,self.x.T]).T\n",
    "        else:\n",
    "            x = ones\n",
    "        return x\n",
    "    \n",
    "    def fit(self):\n",
    "        # we need to add a column of 1s to our X\n",
    "        #debug_print((np.ones(np.shape(x)[0])))\n",
    "        x = self.create_design_matrix()\n",
    "        x_t_x_product = np.matmul(x.T,x)\n",
    "        x_t_x_inverse = np.linalg.inv(x_t_x_product)\n",
    "        x_t_times_y = np.matmul(x.T, self.y)\n",
    "        final_with_y = np.matmul(x_t_x_inverse, x_t_times_y.T)\n",
    "        self.coefs = final_with_y\n",
    "        return final_with_y\n",
    "    \n",
    "    def get_coefs(self):\n",
    "        return self.coefs\n",
    "    \n",
    "    def residuals(self):\n",
    "        if len(self.coefs) == 0:\n",
    "            raise ValueError('Model is not fitted')\n",
    "        x = self.create_design_matrix()\n",
    "        predictions = np.matmul(x, self.coefs)\n",
    "        return self.y - predictions\n",
    "    \n",
    "    def sse(self):\n",
    "        return np.sum(np.power(self.residuals(),2))\n",
    "    \n",
    "    def f_test(self):\n",
    "        reduced_model = simple_regression(np.ndarray([]), self.y, debug=False)\n",
    "        sse_reduced = reduced_model.sse()\n",
    "        df_reduced = self.y.shape[0]-1\n",
    "        sse_full = self.sse()\n",
    "        if len(self.x.shape) > 0:\n",
    "            df_full = self.y.shape[0]-self.x.shape[1]-1 # minus 1 is for intercept\n",
    "        else:\n",
    "            df_full = self.y.shape[0]-1\n",
    "        return ((sse_reduced-sse_full)/(df_reduced-df_full))/(sse_full/df_full)\n",
    "    \n",
    "    def get_coef_cis(self, n):\n",
    "        bootstrapped_samples_x, bootstrapped_samples_y = bootstrap_sample(self.x,self.y,n)\n",
    "        num_betas = self.x.shape[1] if self.x.shape != () else 0\n",
    "        coef_est = np.ndarray((n,num_betas+1))\n",
    "        for i,val in enumerate(bootstrapped_samples_x):\n",
    "            r = simple_regression(bootstrapped_samples_x[i], bootstrapped_samples_y[i])\n",
    "            coef_est[i] = r.get_coefs()\n",
    "        return np.apply_along_axis(np.quantile, axis=0, arr=coef_est, q=[.025, .975])\n",
    "    \n",
    "    def p_value(self):\n",
    "        f = self.f_test()\n",
    "        num_betas = self.x.shape[1] if self.x.shape != () else 0\n",
    "        # why do we need an absolute value on the f stat?\n",
    "        # lol we don't if we calculate it correctly (reduced - full)\n",
    "        return (stats.f.sf((f),self.y.shape[0]-1,self.y.shape[0]-num_betas-1))\n",
    "\n",
    "    def print_summary(self):\n",
    "        cis = self.get_coef_cis(500).T\n",
    "        for i, val in enumerate(self.coefs):\n",
    "            if i == 0:\n",
    "                print('Intercept: %s,   ci: %s' % (list(self.coefs)[i], cis[i]))\n",
    "            else:\n",
    "                print('b_%s coefficient: %s,   ci: %s' % (i, val, cis[i]))\n",
    "        print('f-statistic: %s' % (self.f_test()))\n",
    "        print('p-value for f-statistic: %s' % (self.p_value()))\n",
    " \n",
    "\n",
    "\n",
    "test_multiple = simple_regression(x,y, debug=False)\n",
    "test_multiple.print_summary()\n",
    "\n",
    "test_reduced = simple_regression(np.ndarray([]), y, debug=False)\n",
    "test_reduced.fit()\n",
    "test_reduced.print_summary()"
   ]
  },
  {
   "cell_type": "code",
   "execution_count": 6,
   "metadata": {},
   "outputs": [
    {
     "data": {
      "text/plain": [
       "()"
      ]
     },
     "execution_count": 6,
     "metadata": {},
     "output_type": "execute_result"
    }
   ],
   "source": [
    "np.ndarray([]).shape"
   ]
  },
  {
   "cell_type": "code",
   "execution_count": 7,
   "metadata": {},
   "outputs": [
    {
     "data": {
      "text/html": [
       "<table class=\"simpletable\">\n",
       "<caption>OLS Regression Results</caption>\n",
       "<tr>\n",
       "  <th>Dep. Variable:</th>            <td>y</td>        <th>  R-squared:         </th> <td>   0.325</td>\n",
       "</tr>\n",
       "<tr>\n",
       "  <th>Model:</th>                   <td>OLS</td>       <th>  Adj. R-squared:    </th> <td>   0.324</td>\n",
       "</tr>\n",
       "<tr>\n",
       "  <th>Method:</th>             <td>Least Squares</td>  <th>  F-statistic:       </th> <td>   240.0</td>\n",
       "</tr>\n",
       "<tr>\n",
       "  <th>Date:</th>             <td>Sat, 24 Jul 2021</td> <th>  Prob (F-statistic):</th> <td>1.80e-44</td>\n",
       "</tr>\n",
       "<tr>\n",
       "  <th>Time:</th>                 <td>10:01:45</td>     <th>  Log-Likelihood:    </th> <td> -882.42</td>\n",
       "</tr>\n",
       "<tr>\n",
       "  <th>No. Observations:</th>      <td>   500</td>      <th>  AIC:               </th> <td>   1769.</td>\n",
       "</tr>\n",
       "<tr>\n",
       "  <th>Df Residuals:</th>          <td>   498</td>      <th>  BIC:               </th> <td>   1777.</td>\n",
       "</tr>\n",
       "<tr>\n",
       "  <th>Df Model:</th>              <td>     1</td>      <th>                     </th>     <td> </td>   \n",
       "</tr>\n",
       "<tr>\n",
       "  <th>Covariance Type:</th>      <td>nonrobust</td>    <th>                     </th>     <td> </td>   \n",
       "</tr>\n",
       "</table>\n",
       "<table class=\"simpletable\">\n",
       "<tr>\n",
       "    <td></td>       <th>coef</th>     <th>std err</th>      <th>t</th>      <th>P>|t|</th>  <th>[0.025</th>    <th>0.975]</th>  \n",
       "</tr>\n",
       "<tr>\n",
       "  <th>const</th> <td>    4.9919</td> <td>    0.063</td> <td>   78.820</td> <td> 0.000</td> <td>    4.867</td> <td>    5.116</td>\n",
       "</tr>\n",
       "<tr>\n",
       "  <th>x1</th>    <td>    0.4934</td> <td>    0.032</td> <td>   15.493</td> <td> 0.000</td> <td>    0.431</td> <td>    0.556</td>\n",
       "</tr>\n",
       "</table>\n",
       "<table class=\"simpletable\">\n",
       "<tr>\n",
       "  <th>Omnibus:</th>       <td> 1.781</td> <th>  Durbin-Watson:     </th> <td>   2.113</td>\n",
       "</tr>\n",
       "<tr>\n",
       "  <th>Prob(Omnibus):</th> <td> 0.410</td> <th>  Jarque-Bera (JB):  </th> <td>   1.809</td>\n",
       "</tr>\n",
       "<tr>\n",
       "  <th>Skew:</th>          <td>-0.144</td> <th>  Prob(JB):          </th> <td>   0.405</td>\n",
       "</tr>\n",
       "<tr>\n",
       "  <th>Kurtosis:</th>      <td> 2.938</td> <th>  Cond. No.          </th> <td>    1.99</td>\n",
       "</tr>\n",
       "</table><br/><br/>Warnings:<br/>[1] Standard Errors assume that the covariance matrix of the errors is correctly specified."
      ],
      "text/plain": [
       "<class 'statsmodels.iolib.summary.Summary'>\n",
       "\"\"\"\n",
       "                            OLS Regression Results                            \n",
       "==============================================================================\n",
       "Dep. Variable:                      y   R-squared:                       0.325\n",
       "Model:                            OLS   Adj. R-squared:                  0.324\n",
       "Method:                 Least Squares   F-statistic:                     240.0\n",
       "Date:                Sat, 24 Jul 2021   Prob (F-statistic):           1.80e-44\n",
       "Time:                        10:01:45   Log-Likelihood:                -882.42\n",
       "No. Observations:                 500   AIC:                             1769.\n",
       "Df Residuals:                     498   BIC:                             1777.\n",
       "Df Model:                           1                                         \n",
       "Covariance Type:            nonrobust                                         \n",
       "==============================================================================\n",
       "                 coef    std err          t      P>|t|      [0.025      0.975]\n",
       "------------------------------------------------------------------------------\n",
       "const          4.9919      0.063     78.820      0.000       4.867       5.116\n",
       "x1             0.4934      0.032     15.493      0.000       0.431       0.556\n",
       "==============================================================================\n",
       "Omnibus:                        1.781   Durbin-Watson:                   2.113\n",
       "Prob(Omnibus):                  0.410   Jarque-Bera (JB):                1.809\n",
       "Skew:                          -0.144   Prob(JB):                        0.405\n",
       "Kurtosis:                       2.938   Cond. No.                         1.99\n",
       "==============================================================================\n",
       "\n",
       "Warnings:\n",
       "[1] Standard Errors assume that the covariance matrix of the errors is correctly specified.\n",
       "\"\"\""
      ]
     },
     "execution_count": 7,
     "metadata": {},
     "output_type": "execute_result"
    }
   ],
   "source": [
    "x_1 = (sm.add_constant(x))\n",
    "#print(np.transpose(sm.add_constant(x)))\n",
    "#print(y)\n",
    "sm.OLS(y, sm.add_constant(x)).fit().summary()"
   ]
  },
  {
   "cell_type": "code",
   "execution_count": 189,
   "metadata": {},
   "outputs": [],
   "source": []
  },
  {
   "cell_type": "code",
   "execution_count": 464,
   "metadata": {},
   "outputs": [
    {
     "data": {
      "text/plain": [
       "'1.14.5'"
      ]
     },
     "execution_count": 464,
     "metadata": {},
     "output_type": "execute_result"
    }
   ],
   "source": [
    "np.version.version"
   ]
  },
  {
   "cell_type": "code",
   "execution_count": null,
   "metadata": {},
   "outputs": [],
   "source": []
  }
 ],
 "metadata": {
  "kernelspec": {
   "display_name": "Python 3",
   "language": "python",
   "name": "python3"
  },
  "language_info": {
   "codemirror_mode": {
    "name": "ipython",
    "version": 3
   },
   "file_extension": ".py",
   "mimetype": "text/x-python",
   "name": "python",
   "nbconvert_exporter": "python",
   "pygments_lexer": "ipython3",
   "version": "3.5.5"
  }
 },
 "nbformat": 4,
 "nbformat_minor": 2
}
